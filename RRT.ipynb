{
 "cells": [
  {
   "cell_type": "markdown",
   "metadata": {},
   "source": [
    "# Rapidly-exploring Random Trees\n",
    "\n",
    "A Rapidly-exploring Random Tree is an algorithm used for robot path planning.\n",
    "This is a pygame implementation of RRT. The obstacles considered in this case are static but can easily be modified to make it dynamic.\n"
   ]
  },
  {
   "cell_type": "code",
   "execution_count": 1,
   "metadata": {
    "collapsed": true
   },
   "outputs": [],
   "source": [
    "import math, sys, pygame, random\n",
    "from math import *\n",
    "from pygame import *"
   ]
  },
  {
   "cell_type": "markdown",
   "metadata": {},
   "source": [
    "### Defining a node. \n",
    "\n",
    "Each node has a parent node (except the init node)"
   ]
  },
  {
   "cell_type": "code",
   "execution_count": 2,
   "metadata": {
    "collapsed": true
   },
   "outputs": [],
   "source": [
    "class Node(object):\n",
    "    def __init__(self, point, parent):\n",
    "        super(Node, self).__init__()\n",
    "        self.point = point\n",
    "        self.parent = parent"
   ]
  },
  {
   "cell_type": "markdown",
   "metadata": {},
   "source": [
    "'delta' is the max length of the step for each iteration.\n",
    "white,black,red,blue etc contain the rgb values used to denote the respective colours."
   ]
  },
  {
   "cell_type": "code",
   "execution_count": 3,
   "metadata": {
    "collapsed": true
   },
   "outputs": [],
   "source": [
    "XDIM = 720\n",
    "YDIM = 500\n",
    "windowSize = [XDIM, YDIM]\n",
    "delta = 10.0\n",
    "GAME_LEVEL = 1\n",
    "GOAL_RADIUS = 10\n",
    "MIN_DISTANCE_TO_ADD = 1.0\n",
    "NUMNODES = 5000\n",
    "pygame.init()\n",
    "fpsClock = pygame.time.Clock()      #an object to help track time\n",
    "screen = pygame.display.set_mode(windowSize)\n",
    "white = 255, 255, 255\n",
    "black = 0, 0, 0\n",
    "red = 255, 0, 0\n",
    "blue = 0, 255, 0\n",
    "green = 0, 0, 255\n",
    "cyan = 0,180,105"
   ]
  },
  {
   "cell_type": "markdown",
   "metadata": {},
   "source": [
    "'rectObs' contains the coordinates of the obstacle."
   ]
  },
  {
   "cell_type": "code",
   "execution_count": null,
   "metadata": {
    "collapsed": true
   },
   "outputs": [],
   "source": [
    "count = 0\n",
    "rectObs = []"
   ]
  },
  {
   "cell_type": "markdown",
   "metadata": {},
   "source": [
    "#### Function to calculate distance between two points"
   ]
  },
  {
   "cell_type": "code",
   "execution_count": null,
   "metadata": {
    "collapsed": true
   },
   "outputs": [],
   "source": [
    "def dist(p1,p2):    #distance between two points\n",
    "    return sqrt((p1[0]-p2[0])*(p1[0]-p2[0])+(p1[1]-p2[1])*(p1[1]-p2[1]))"
   ]
  },
  {
   "cell_type": "markdown",
   "metadata": {},
   "source": []
  },
  {
   "cell_type": "code",
   "execution_count": null,
   "metadata": {
    "collapsed": true
   },
   "outputs": [],
   "source": [
    "def point_circle_collision(p1, p2, radius):\n",
    "    distance = dist(p1,p2)\n",
    "    if (distance <= radius):\n",
    "        return True\n",
    "    return False"
   ]
  },
  {
   "cell_type": "markdown",
   "metadata": {},
   "source": [
    "#### The Steer function:\n",
    "\n",
    "Steer: This function provides a control input u [0, T] which\n",
    "drives the system from z(0)= z rand to z(T)= z nearest along\n",
    "the path z:[0,T] → Z giving z new at a distance 'delta' from\n",
    "z nearest towards z rand where Δq is the incremental distance."
   ]
  },
  {
   "cell_type": "code",
   "execution_count": null,
   "metadata": {
    "collapsed": true
   },
   "outputs": [],
   "source": [
    "def step_from_to(p1,p2):\n",
    "    if dist(p1,p2) < delta:\n",
    "        return p2\n",
    "    else:\n",
    "        theta = atan2(p2[1]-p1[1],p2[0]-p1[0])\n",
    "        return p1[0] + delta*cos(theta), p1[1] + delta*sin(theta)\n"
   ]
  },
  {
   "cell_type": "markdown",
   "metadata": {},
   "source": [
    "#### A boolean function to check the collision with the obstacle\n",
    "\n",
    "CollisionCheck: This function is used to check collision\n",
    "detection of a tree branch and returns true if it lies in\n",
    "obstacle free region, i.e., whether a path z:[0, T] lies in the\n",
    "Z free for all t=0 to t=T."
   ]
  },
  {
   "cell_type": "code",
   "execution_count": null,
   "metadata": {
    "collapsed": true
   },
   "outputs": [],
   "source": [
    "def collides(p):    #check if point collides with the obstacle\n",
    "    for rect in rectObs:\n",
    "        if rect.collidepoint(p) == True:\n",
    "            return True\n",
    "    return False\n"
   ]
  },
  {
   "cell_type": "markdown",
   "metadata": {},
   "source": [
    "#### The Sampling function\n",
    "\n",
    "Sample: This function generates a random positon z rand\n",
    "from search space in obstacle free region Z free ."
   ]
  },
  {
   "cell_type": "code",
   "execution_count": null,
   "metadata": {
    "collapsed": true
   },
   "outputs": [],
   "source": [
    "def get_random_clear():\n",
    "    while True:\n",
    "        p = random.random()*XDIM, random.random()*YDIM\n",
    "        noCollision = collides(p)\n",
    "        if noCollision == False:\n",
    "            return p"
   ]
  },
  {
   "cell_type": "markdown",
   "metadata": {},
   "source": [
    "Initializing the obstacle"
   ]
  },
  {
   "cell_type": "code",
   "execution_count": null,
   "metadata": {
    "collapsed": true
   },
   "outputs": [],
   "source": [
    "def init_obstacles(configNum):  #initialized the obstacle\n",
    "    global rectObs\n",
    "    rectObs = []\n",
    "    print(\"config \"+ str(configNum))\n",
    "    if (configNum == 0):\n",
    "        rectObs.append(pygame.Rect((XDIM / 2.0 - 50, YDIM / 2.0 - 100),(100,200)))\n",
    "    if (configNum == 1):\n",
    "        rectObs.append(pygame.Rect((100,50),(200,150)))\n",
    "        rectObs.append(pygame.Rect((400,200),(200,100)))\n",
    "    if (configNum == 2):\n",
    "        rectObs.append(pygame.Rect((100,50),(200,150)))\n",
    "    if (configNum == 3):\n",
    "        rectObs.append(pygame.Rect((100,50),(200,150)))\n",
    "\n",
    "    for rect in rectObs:\n",
    "        pygame.draw.rect(screen, black, rect)"
   ]
  },
  {
   "cell_type": "code",
   "execution_count": null,
   "metadata": {
    "collapsed": true
   },
   "outputs": [],
   "source": [
    "def reset():\n",
    "    global count\n",
    "    screen.fill(white)\n",
    "    init_obstacles(GAME_LEVEL)\n",
    "    count = 0"
   ]
  },
  {
   "cell_type": "code",
   "execution_count": null,
   "metadata": {
    "collapsed": true
   },
   "outputs": [],
   "source": [
    "def main():\n",
    "    global count\n",
    "    \n",
    "    initPoseSet = False\n",
    "    initialPoint = Node(None, None)\n",
    "    goalPoseSet = False\n",
    "    goalPoint = Node(None, None)\n",
    "    currentState = 'init'\n",
    "\n",
    "    nodes = []\n",
    "    reset()\n",
    "\n",
    "    while True:\n",
    "        if currentState == 'init':\n",
    "            print('goal point not yet set')\n",
    "            pygame.display.set_caption('Select Starting Point and then Goal Point')\n",
    "            fpsClock.tick(10)\n",
    "        elif currentState == 'goalFound':\n",
    "            currNode = goalNode.parent\n",
    "            pygame.display.set_caption('Goal Reached')\n",
    "            print(\"Goal Reached\")\n",
    "\n",
    "            \n",
    "            while currNode.parent != None:\n",
    "                pygame.draw.line(screen,red,currNode.point,currNode.parent.point)\n",
    "                currNode = currNode.parent\n",
    "            optimizePhase = True\n",
    "        elif currentState == 'optimize':\n",
    "            fpsClock.tick(0.5)\n",
    "            pass\n",
    "        elif currentState == 'buildTree':\n",
    "            count = count+1\n",
    "            pygame.display.set_caption('Performing RRT')\n",
    "            if count < NUMNODES:\n",
    "                foundNext = False\n",
    "                while foundNext == False:\n",
    "                    rand = get_random_clear()\n",
    "                    parentNode = nodes[0]\n",
    "                    for p in nodes:\n",
    "                        if dist(p.point,rand) <= dist(parentNode.point,rand):\n",
    "                            newPoint = step_from_to(p.point,rand)\n",
    "                            if collides(newPoint) == False:\n",
    "                                parentNode = p\n",
    "                                foundNext = True\n",
    "\n",
    "                newnode = step_from_to(parentNode.point,rand)\n",
    "                nodes.append(Node(newnode, parentNode))\n",
    "                pygame.draw.line(screen,cyan,parentNode.point,newnode)\n",
    "\n",
    "                if point_circle_collision(newnode, goalPoint.point, GOAL_RADIUS):\n",
    "                    currentState = 'goalFound'\n",
    "\n",
    "                    goalNode = nodes[len(nodes)-1]\n",
    "\n",
    "                \n",
    "            else:\n",
    "                print(\"Ran out of nodes... :(\")\n",
    "                return;\n",
    "\n",
    "        #handle events\n",
    "        for e in pygame.event.get():\n",
    "            if e.type == QUIT or (e.type == KEYUP and e.key == K_ESCAPE):\n",
    "                sys.exit(\"Exiting\")\n",
    "            if e.type == MOUSEBUTTONDOWN:\n",
    "                print('mouse down')\n",
    "                if currentState == 'init':\n",
    "                    if initPoseSet == False:\n",
    "                        nodes = []\n",
    "                        if collides(e.pos) == False:\n",
    "                            print('initiale point set: '+str(e.pos))\n",
    "\n",
    "                            initialPoint = Node(e.pos, None)\n",
    "                            nodes.append(initialPoint) # Start in the center\n",
    "                            initPoseSet = True\n",
    "                            pygame.draw.circle(screen, red, initialPoint.point, GOAL_RADIUS)\n",
    "                    elif goalPoseSet == False:\n",
    "                        print('goal point set: '+str(e.pos))\n",
    "                        if collides(e.pos) == False:\n",
    "                            goalPoint = Node(e.pos,None)\n",
    "                            goalPoseSet = True\n",
    "                            pygame.draw.circle(screen, green, goalPoint.point, GOAL_RADIUS)\n",
    "                            currentState = 'buildTree'\n",
    "                else:\n",
    "                    currentState = 'init'\n",
    "                    initPoseSet = False\n",
    "                    goalPoseSet = False\n",
    "                    reset()\n",
    "\n",
    "        pygame.display.update()\n",
    "        fpsClock.tick(10000)\n"
   ]
  },
  {
   "cell_type": "code",
   "execution_count": null,
   "metadata": {
    "collapsed": true
   },
   "outputs": [],
   "source": [
    "if __name__ == '__main__':\n",
    "    main()"
   ]
  }
 ],
 "metadata": {
  "kernelspec": {
   "display_name": "Python 3",
   "language": "python",
   "name": "python3"
  },
  "language_info": {
   "codemirror_mode": {
    "name": "ipython",
    "version": 3
   },
   "file_extension": ".py",
   "mimetype": "text/x-python",
   "name": "python",
   "nbconvert_exporter": "python",
   "pygments_lexer": "ipython3",
   "version": "3.6.3"
  }
 },
 "nbformat": 4,
 "nbformat_minor": 2
}
